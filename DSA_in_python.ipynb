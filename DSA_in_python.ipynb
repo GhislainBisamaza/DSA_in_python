{
  "nbformat": 4,
  "nbformat_minor": 0,
  "metadata": {
    "colab": {
      "provenance": [],
      "gpuType": "T4",
      "authorship_tag": "ABX9TyMq5U3gbrxsYBnGv/i4qfqG",
      "include_colab_link": true
    },
    "kernelspec": {
      "name": "python3",
      "display_name": "Python 3"
    },
    "language_info": {
      "name": "python"
    }
  },
  "cells": [
    {
      "cell_type": "markdown",
      "metadata": {
        "id": "view-in-github",
        "colab_type": "text"
      },
      "source": [
        "<a href=\"https://colab.research.google.com/github/GhislainBisamaza/DSA_in_python/blob/main/DSA_in_python.ipynb\" target=\"_parent\"><img src=\"https://colab.research.google.com/assets/colab-badge.svg\" alt=\"Open In Colab\"/></a>"
      ]
    },
    {
      "cell_type": "markdown",
      "source": [
        "## **Basic Data Structures in Python**"
      ],
      "metadata": {
        "id": "HsHURIAkLmrs"
      }
    },
    {
      "cell_type": "markdown",
      "source": [
        "**queus in python**\n"
      ],
      "metadata": {
        "id": "RU_H6Ta8L08B"
      }
    },
    {
      "cell_type": "code",
      "execution_count": null,
      "metadata": {
        "id": "i-QktfsG6vs2"
      },
      "outputs": [],
      "source": [
        "from collections import deque"
      ]
    },
    {
      "cell_type": "code",
      "source": [
        "myque = deque()"
      ],
      "metadata": {
        "id": "0EN_MRMS7JSq"
      },
      "execution_count": null,
      "outputs": []
    },
    {
      "cell_type": "code",
      "source": [
        "myque.append(5)"
      ],
      "metadata": {
        "id": "gGrUvPR27Qla"
      },
      "execution_count": null,
      "outputs": []
    },
    {
      "cell_type": "code",
      "source": [
        "myque.append(10)\n",
        "print(myque)"
      ],
      "metadata": {
        "colab": {
          "base_uri": "https://localhost:8080/"
        },
        "id": "bivdNf3l7Wyp",
        "outputId": "a358db16-9370-4e8d-edc1-3d2cd40a8057"
      },
      "execution_count": null,
      "outputs": [
        {
          "output_type": "stream",
          "name": "stdout",
          "text": [
            "deque([5, 10])\n"
          ]
        }
      ]
    },
    {
      "cell_type": "code",
      "source": [
        "print(myque.popleft())"
      ],
      "metadata": {
        "colab": {
          "base_uri": "https://localhost:8080/"
        },
        "id": "2lHWqBFd7c8F",
        "outputId": "1ccd779c-a3c3-4741-832c-8ce2c8cc5e89"
      },
      "execution_count": null,
      "outputs": [
        {
          "output_type": "stream",
          "name": "stdout",
          "text": [
            "5\n"
          ]
        }
      ]
    },
    {
      "cell_type": "markdown",
      "source": [
        "**Stacks Using List**"
      ],
      "metadata": {
        "id": "lom_n19iLbiU"
      }
    },
    {
      "cell_type": "code",
      "source": [
        "#stacks"
      ],
      "metadata": {
        "id": "rAQbHIu57nRZ"
      },
      "execution_count": null,
      "outputs": []
    },
    {
      "cell_type": "code",
      "source": [
        "mystack = list()\n",
        "mystack.append(1)\n",
        "mystack.append(2)\n",
        "mystack.append(3)\n",
        "mystack.append(4)"
      ],
      "metadata": {
        "id": "8lMh8DGt911J"
      },
      "execution_count": null,
      "outputs": []
    },
    {
      "cell_type": "code",
      "source": [
        "mystack"
      ],
      "metadata": {
        "colab": {
          "base_uri": "https://localhost:8080/"
        },
        "id": "9-qIVCfb-Bpo",
        "outputId": "8914b3a5-3880-4e10-f6d4-bb29303ec0c6"
      },
      "execution_count": null,
      "outputs": [
        {
          "output_type": "execute_result",
          "data": {
            "text/plain": [
              "[1, 2, 3, 4]"
            ]
          },
          "metadata": {},
          "execution_count": 9
        }
      ]
    },
    {
      "cell_type": "code",
      "source": [
        "mystack.pop()"
      ],
      "metadata": {
        "colab": {
          "base_uri": "https://localhost:8080/"
        },
        "id": "CAaJDsL0-q8Z",
        "outputId": "36404390-9aa4-4f00-fb12-d2949bfc173a"
      },
      "execution_count": null,
      "outputs": [
        {
          "output_type": "execute_result",
          "data": {
            "text/plain": [
              "4"
            ]
          },
          "metadata": {},
          "execution_count": 10
        }
      ]
    },
    {
      "cell_type": "code",
      "source": [
        "mystack.pop()"
      ],
      "metadata": {
        "colab": {
          "base_uri": "https://localhost:8080/"
        },
        "id": "fo8meTuf-w5i",
        "outputId": "33e4d111-a906-4392-aa06-b0b4274f34a6"
      },
      "execution_count": null,
      "outputs": [
        {
          "output_type": "execute_result",
          "data": {
            "text/plain": [
              "3"
            ]
          },
          "metadata": {},
          "execution_count": 11
        }
      ]
    },
    {
      "cell_type": "code",
      "source": [
        "mystack"
      ],
      "metadata": {
        "colab": {
          "base_uri": "https://localhost:8080/"
        },
        "id": "9mZlPccW-zwJ",
        "outputId": "d592f485-db5f-4f8b-f173-50dfbc617a71"
      },
      "execution_count": null,
      "outputs": [
        {
          "output_type": "execute_result",
          "data": {
            "text/plain": [
              "[1, 2]"
            ]
          },
          "metadata": {},
          "execution_count": 12
        }
      ]
    },
    {
      "cell_type": "markdown",
      "source": [
        "**Class implementation**"
      ],
      "metadata": {
        "id": "DSQPmY9XL-a3"
      }
    },
    {
      "cell_type": "code",
      "source": [
        "class stack():\n",
        "  def __init__(self):\n",
        "    self.stack = list()\n",
        "  def push(self, item):\n",
        "    self.stack.append(item)\n",
        "  def pop(self):\n",
        "    if (len(self.stack)>0):\n",
        "      return self.stack.pop()\n",
        "    else:\n",
        "      return None\n",
        "  def peek(self):\n",
        "    if (len(self.stack) > 0):\n",
        "      return self.stack[(len(self.stack) - 1)]\n",
        "    else:\n",
        "      return None\n",
        "  def __str__(self):\n",
        "    return str(self.stack)"
      ],
      "metadata": {
        "id": "lH4719px-2d3"
      },
      "execution_count": null,
      "outputs": []
    },
    {
      "cell_type": "code",
      "source": [
        "mystack_2 = stack()"
      ],
      "metadata": {
        "id": "5iwFBOkTAqRx"
      },
      "execution_count": null,
      "outputs": []
    },
    {
      "cell_type": "code",
      "source": [
        "mystack_2.push(1)\n",
        "mystack_2.push('u')\n",
        "mystack_2.push(3)\n",
        "mystack_2.push('v')"
      ],
      "metadata": {
        "id": "rZcRJv6lBZR3"
      },
      "execution_count": null,
      "outputs": []
    },
    {
      "cell_type": "code",
      "source": [
        "print(mystack_2)"
      ],
      "metadata": {
        "colab": {
          "base_uri": "https://localhost:8080/"
        },
        "id": "6WYU_Wg-Bg6A",
        "outputId": "37eec177-8c41-479b-d78d-6b31a47affac"
      },
      "execution_count": null,
      "outputs": [
        {
          "output_type": "stream",
          "name": "stdout",
          "text": [
            "[1, 'u', 3, 'v']\n"
          ]
        }
      ]
    },
    {
      "cell_type": "code",
      "source": [
        "mystack_2.pop()"
      ],
      "metadata": {
        "colab": {
          "base_uri": "https://localhost:8080/",
          "height": 35
        },
        "id": "08XpDhz8Bq1-",
        "outputId": "f0833a03-8774-476f-b433-558362e59989"
      },
      "execution_count": null,
      "outputs": [
        {
          "output_type": "execute_result",
          "data": {
            "text/plain": [
              "'v'"
            ],
            "application/vnd.google.colaboratory.intrinsic+json": {
              "type": "string"
            }
          },
          "metadata": {},
          "execution_count": 14
        }
      ]
    },
    {
      "cell_type": "code",
      "source": [
        "mystack_2.pop()"
      ],
      "metadata": {
        "colab": {
          "base_uri": "https://localhost:8080/"
        },
        "id": "sWu4aBcqB-L7",
        "outputId": "263749c0-88b8-48a0-a12b-d288a3600977"
      },
      "execution_count": null,
      "outputs": [
        {
          "output_type": "execute_result",
          "data": {
            "text/plain": [
              "3"
            ]
          },
          "metadata": {},
          "execution_count": 15
        }
      ]
    },
    {
      "cell_type": "code",
      "source": [
        "mystack_2.peek()"
      ],
      "metadata": {
        "colab": {
          "base_uri": "https://localhost:8080/",
          "height": 35
        },
        "id": "kCRddoGGCBX1",
        "outputId": "ad800b7f-a5b4-4182-f927-1905d9a3887a"
      },
      "execution_count": null,
      "outputs": [
        {
          "output_type": "execute_result",
          "data": {
            "text/plain": [
              "'u'"
            ],
            "application/vnd.google.colaboratory.intrinsic+json": {
              "type": "string"
            }
          },
          "metadata": {},
          "execution_count": 16
        }
      ]
    },
    {
      "cell_type": "markdown",
      "source": [
        "**Hash Map**"
      ],
      "metadata": {
        "id": "KWIKiFHSMUTn"
      }
    },
    {
      "cell_type": "code",
      "source": [
        "class  HashMap:\n",
        "  def __init__(self):\n",
        "    self.size = 6\n",
        "    self.map = [None] * self.size\n",
        "\n",
        "  def _get_hash(self, key):\n",
        "    hash = 0\n",
        "    for char in str(key):\n",
        "      hash += ord(char)\n",
        "    return hash % self.size\n",
        "\n",
        "  def add(self, key, value):\n",
        "    key_hash = self._get_hash(key)\n",
        "    key_value = [key, value]\n",
        "\n",
        "    if self.map[key_hash] is None:\n",
        "      self.map[key_hash] = list([key_value])\n",
        "    else:\n",
        "      for pair in self.map[key_hash]:\n",
        "        if pair[0] == key:\n",
        "          pair[1] == value\n",
        "          return True\n",
        "      self.map[key_hash].append(key_value)\n",
        "      return True\n",
        "\n",
        "  def delete(self, key):\n",
        "    key_hash = self._get_hash(key)\n",
        "\n",
        "    if self.map[key_hash] is None:\n",
        "      return False\n",
        "\n",
        "    for i in range(0, len(self.map[key_hash])):\n",
        "      if self.map[key_hash][i][0] == key:\n",
        "        self.map[key_hash].pop(i)\n",
        "        return True\n",
        "\n",
        "  def print(self):\n",
        "    print(\"-----PhoneBook-------\")\n",
        "    for item in self.map:\n",
        "      if item is not None:\n",
        "        print(str(item))\n",
        "\n",
        "\n",
        "\n"
      ],
      "metadata": {
        "id": "Tevc6f6pSWpp"
      },
      "execution_count": null,
      "outputs": []
    },
    {
      "cell_type": "code",
      "source": [
        "h = HashMap()\n",
        "h.add('Bob', '567-8888')\n",
        "h.add('Ming', '293-6753')\n",
        "h.add('Ming', '333-8233')\n",
        "h.add('Ankit', '293-8625')\n",
        "h.add('Aditya', '852-6551')\n",
        "h.add('Alicia', '632-4123')\n",
        "h.add('Mike', '567-2188')\n",
        "h.add('Aditya', '777-8888')\n",
        "h.print()"
      ],
      "metadata": {
        "colab": {
          "base_uri": "https://localhost:8080/"
        },
        "id": "GMpQZwGIZSp4",
        "outputId": "c623ac77-1db9-41a5-bd04-9e9c3353b157"
      },
      "execution_count": null,
      "outputs": [
        {
          "output_type": "stream",
          "name": "stdout",
          "text": [
            "-----PhoneBook-------\n",
            "[['Mike', '567-2188']]\n",
            "[['Alicia', '632-4123']]\n",
            "[['Aditya', '852-6551']]\n",
            "[['Bob', '567-8888'], ['Ming', '293-6753'], ['Ankit', '293-8625']]\n"
          ]
        }
      ]
    }
  ]
}